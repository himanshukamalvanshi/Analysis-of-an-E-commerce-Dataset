{
 "cells": [
  {
   "cell_type": "markdown",
   "id": "1f70d6a8",
   "metadata": {},
   "source": [
    "# Online Retail Store"
   ]
  },
  {
   "cell_type": "markdown",
   "id": "8768d21f",
   "metadata": {},
   "source": [
    "#### Data Set Information:\n",
    "This Online Retail dataset contains all the transactions occurring for a UK-based and registered, non-store online retail between 01/12/2010 and 09/12/2011.The company mainly sells unique all-occasion gift-ware. Many customers of the company are wholesalers.\n",
    "\n",
    "\n",
    "\n",
    "#### Attribute Information:\n",
    "- InvoiceNo: Invoice number. Nominal. A 6-digit integral number uniquely assigned to each transaction. If this code starts with the letter 'C', it indicates a cancellation.\n",
    "- StockCode: Product (item) code. Nominal. A 5-digit integral number uniquely assigned to each distinct product.\n",
    "- Description: Product (item) name. Nominal.\n",
    "- Quantity: The quantities of each product (item) per transaction. Numeric.\n",
    "- InvoiceDate: Invoice date and time. Numeric. The day and time when a transaction was generated.\n",
    "- UnitPrice: Unit price. Numeric. Product price per unit in sterling (£).\n",
    "- CustomerID: Customer number. Nominal. A 5-digit integral number uniquely assigned to each customer.\n",
    "- Country: Country name. Nominal. The name of the country where a customer resides.\n",
    "\n",
    "\n",
    "\n",
    "\n",
    "\n",
    "#### Source:\n",
    "Dr. Daqing Chen, Course Director: MSc Data Science. chend '@' lsbu.ac.uk, School of Engineering, London South Bank University, London SE1 0AA, UK."
   ]
  },
  {
   "cell_type": "markdown",
   "id": "74e17668",
   "metadata": {},
   "source": [
    "# Loading the dataset"
   ]
  },
  {
   "cell_type": "code",
   "execution_count": 1,
   "id": "dc3d0293",
   "metadata": {},
   "outputs": [],
   "source": [
    "import pandas as pd"
   ]
  },
  {
   "cell_type": "code",
   "execution_count": 2,
   "id": "9b2c0e7e",
   "metadata": {},
   "outputs": [
    {
     "data": {
      "text/html": [
       "<div>\n",
       "<style scoped>\n",
       "    .dataframe tbody tr th:only-of-type {\n",
       "        vertical-align: middle;\n",
       "    }\n",
       "\n",
       "    .dataframe tbody tr th {\n",
       "        vertical-align: top;\n",
       "    }\n",
       "\n",
       "    .dataframe thead th {\n",
       "        text-align: right;\n",
       "    }\n",
       "</style>\n",
       "<table border=\"1\" class=\"dataframe\">\n",
       "  <thead>\n",
       "    <tr style=\"text-align: right;\">\n",
       "      <th></th>\n",
       "      <th>InvoiceNo</th>\n",
       "      <th>StockCode</th>\n",
       "      <th>Description</th>\n",
       "      <th>Quantity</th>\n",
       "      <th>InvoiceDate</th>\n",
       "      <th>UnitPrice</th>\n",
       "      <th>CustomerID</th>\n",
       "      <th>Country</th>\n",
       "    </tr>\n",
       "  </thead>\n",
       "  <tbody>\n",
       "    <tr>\n",
       "      <th>0</th>\n",
       "      <td>536365</td>\n",
       "      <td>85123A</td>\n",
       "      <td>WHITE HANGING HEART T-LIGHT HOLDER</td>\n",
       "      <td>6</td>\n",
       "      <td>2010-12-01 08:26:00</td>\n",
       "      <td>2.55</td>\n",
       "      <td>17850.0</td>\n",
       "      <td>United Kingdom</td>\n",
       "    </tr>\n",
       "    <tr>\n",
       "      <th>1</th>\n",
       "      <td>536365</td>\n",
       "      <td>71053</td>\n",
       "      <td>WHITE METAL LANTERN</td>\n",
       "      <td>6</td>\n",
       "      <td>2010-12-01 08:26:00</td>\n",
       "      <td>3.39</td>\n",
       "      <td>17850.0</td>\n",
       "      <td>United Kingdom</td>\n",
       "    </tr>\n",
       "    <tr>\n",
       "      <th>2</th>\n",
       "      <td>536365</td>\n",
       "      <td>84406B</td>\n",
       "      <td>CREAM CUPID HEARTS COAT HANGER</td>\n",
       "      <td>8</td>\n",
       "      <td>2010-12-01 08:26:00</td>\n",
       "      <td>2.75</td>\n",
       "      <td>17850.0</td>\n",
       "      <td>United Kingdom</td>\n",
       "    </tr>\n",
       "    <tr>\n",
       "      <th>3</th>\n",
       "      <td>536365</td>\n",
       "      <td>84029G</td>\n",
       "      <td>KNITTED UNION FLAG HOT WATER BOTTLE</td>\n",
       "      <td>6</td>\n",
       "      <td>2010-12-01 08:26:00</td>\n",
       "      <td>3.39</td>\n",
       "      <td>17850.0</td>\n",
       "      <td>United Kingdom</td>\n",
       "    </tr>\n",
       "    <tr>\n",
       "      <th>4</th>\n",
       "      <td>536365</td>\n",
       "      <td>84029E</td>\n",
       "      <td>RED WOOLLY HOTTIE WHITE HEART.</td>\n",
       "      <td>6</td>\n",
       "      <td>2010-12-01 08:26:00</td>\n",
       "      <td>3.39</td>\n",
       "      <td>17850.0</td>\n",
       "      <td>United Kingdom</td>\n",
       "    </tr>\n",
       "  </tbody>\n",
       "</table>\n",
       "</div>"
      ],
      "text/plain": [
       "  InvoiceNo StockCode                          Description  Quantity  \\\n",
       "0    536365    85123A   WHITE HANGING HEART T-LIGHT HOLDER         6   \n",
       "1    536365     71053                  WHITE METAL LANTERN         6   \n",
       "2    536365    84406B       CREAM CUPID HEARTS COAT HANGER         8   \n",
       "3    536365    84029G  KNITTED UNION FLAG HOT WATER BOTTLE         6   \n",
       "4    536365    84029E       RED WOOLLY HOTTIE WHITE HEART.         6   \n",
       "\n",
       "          InvoiceDate  UnitPrice  CustomerID         Country  \n",
       "0 2010-12-01 08:26:00       2.55     17850.0  United Kingdom  \n",
       "1 2010-12-01 08:26:00       3.39     17850.0  United Kingdom  \n",
       "2 2010-12-01 08:26:00       2.75     17850.0  United Kingdom  \n",
       "3 2010-12-01 08:26:00       3.39     17850.0  United Kingdom  \n",
       "4 2010-12-01 08:26:00       3.39     17850.0  United Kingdom  "
      ]
     },
     "execution_count": 2,
     "metadata": {},
     "output_type": "execute_result"
    }
   ],
   "source": [
    "# Load the CSV file into a pandas dataframe\n",
    "df = pd.read_excel('Online Retail Data Set.xlsx')\n",
    "df.head()\n"
   ]
  },
  {
   "cell_type": "code",
   "execution_count": 3,
   "id": "b2f81541",
   "metadata": {},
   "outputs": [
    {
     "data": {
      "text/plain": [
       "(541909, 8)"
      ]
     },
     "execution_count": 3,
     "metadata": {},
     "output_type": "execute_result"
    }
   ],
   "source": [
    "# Check the dimension of the dataframe\n",
    "df.shape"
   ]
  },
  {
   "cell_type": "code",
   "execution_count": 4,
   "id": "048defa8",
   "metadata": {},
   "outputs": [
    {
     "data": {
      "text/plain": [
       "Index(['InvoiceNo', 'StockCode', 'Description', 'Quantity', 'InvoiceDate',\n",
       "       'UnitPrice', 'CustomerID', 'Country'],\n",
       "      dtype='object')"
      ]
     },
     "execution_count": 4,
     "metadata": {},
     "output_type": "execute_result"
    }
   ],
   "source": [
    "df.columns"
   ]
  },
  {
   "cell_type": "code",
   "execution_count": 5,
   "id": "3bcbe4bf",
   "metadata": {},
   "outputs": [
    {
     "data": {
      "text/plain": [
       "InvoiceNo              object\n",
       "StockCode              object\n",
       "Description            object\n",
       "Quantity                int64\n",
       "InvoiceDate    datetime64[ns]\n",
       "UnitPrice             float64\n",
       "CustomerID            float64\n",
       "Country                object\n",
       "dtype: object"
      ]
     },
     "execution_count": 5,
     "metadata": {},
     "output_type": "execute_result"
    }
   ],
   "source": [
    "#Checking the datatypes\n",
    "df.dtypes"
   ]
  },
  {
   "cell_type": "code",
   "execution_count": 6,
   "id": "5851026a",
   "metadata": {},
   "outputs": [
    {
     "data": {
      "text/html": [
       "<div>\n",
       "<style scoped>\n",
       "    .dataframe tbody tr th:only-of-type {\n",
       "        vertical-align: middle;\n",
       "    }\n",
       "\n",
       "    .dataframe tbody tr th {\n",
       "        vertical-align: top;\n",
       "    }\n",
       "\n",
       "    .dataframe thead th {\n",
       "        text-align: right;\n",
       "    }\n",
       "</style>\n",
       "<table border=\"1\" class=\"dataframe\">\n",
       "  <thead>\n",
       "    <tr style=\"text-align: right;\">\n",
       "      <th></th>\n",
       "      <th>Quantity</th>\n",
       "      <th>UnitPrice</th>\n",
       "      <th>CustomerID</th>\n",
       "    </tr>\n",
       "  </thead>\n",
       "  <tbody>\n",
       "    <tr>\n",
       "      <th>count</th>\n",
       "      <td>541909.000000</td>\n",
       "      <td>541909.000000</td>\n",
       "      <td>406829.000000</td>\n",
       "    </tr>\n",
       "    <tr>\n",
       "      <th>mean</th>\n",
       "      <td>9.552250</td>\n",
       "      <td>4.611114</td>\n",
       "      <td>15287.690570</td>\n",
       "    </tr>\n",
       "    <tr>\n",
       "      <th>std</th>\n",
       "      <td>218.081158</td>\n",
       "      <td>96.759853</td>\n",
       "      <td>1713.600303</td>\n",
       "    </tr>\n",
       "    <tr>\n",
       "      <th>min</th>\n",
       "      <td>-80995.000000</td>\n",
       "      <td>-11062.060000</td>\n",
       "      <td>12346.000000</td>\n",
       "    </tr>\n",
       "    <tr>\n",
       "      <th>25%</th>\n",
       "      <td>1.000000</td>\n",
       "      <td>1.250000</td>\n",
       "      <td>13953.000000</td>\n",
       "    </tr>\n",
       "    <tr>\n",
       "      <th>50%</th>\n",
       "      <td>3.000000</td>\n",
       "      <td>2.080000</td>\n",
       "      <td>15152.000000</td>\n",
       "    </tr>\n",
       "    <tr>\n",
       "      <th>75%</th>\n",
       "      <td>10.000000</td>\n",
       "      <td>4.130000</td>\n",
       "      <td>16791.000000</td>\n",
       "    </tr>\n",
       "    <tr>\n",
       "      <th>max</th>\n",
       "      <td>80995.000000</td>\n",
       "      <td>38970.000000</td>\n",
       "      <td>18287.000000</td>\n",
       "    </tr>\n",
       "  </tbody>\n",
       "</table>\n",
       "</div>"
      ],
      "text/plain": [
       "            Quantity      UnitPrice     CustomerID\n",
       "count  541909.000000  541909.000000  406829.000000\n",
       "mean        9.552250       4.611114   15287.690570\n",
       "std       218.081158      96.759853    1713.600303\n",
       "min    -80995.000000  -11062.060000   12346.000000\n",
       "25%         1.000000       1.250000   13953.000000\n",
       "50%         3.000000       2.080000   15152.000000\n",
       "75%        10.000000       4.130000   16791.000000\n",
       "max     80995.000000   38970.000000   18287.000000"
      ]
     },
     "execution_count": 6,
     "metadata": {},
     "output_type": "execute_result"
    }
   ],
   "source": [
    "#Description of the dataset\n",
    "df.describe()"
   ]
  },
  {
   "cell_type": "code",
   "execution_count": 7,
   "id": "d2e24318",
   "metadata": {},
   "outputs": [
    {
     "name": "stdout",
     "output_type": "stream",
     "text": [
      "InvoiceNo           0\n",
      "StockCode           0\n",
      "Description      1454\n",
      "Quantity            0\n",
      "InvoiceDate         0\n",
      "UnitPrice           0\n",
      "CustomerID     135080\n",
      "Country             0\n",
      "dtype: int64\n"
     ]
    }
   ],
   "source": [
    "# Check for missing values in the dataframe\n",
    "missing_values = df.isnull()\n",
    "\n",
    "# Count the number of missing values for each column\n",
    "num_missing = missing_values.sum()\n",
    "\n",
    "# Print the number of missing values for each column\n",
    "print(num_missing)"
   ]
  },
  {
   "cell_type": "code",
   "execution_count": 8,
   "id": "4ce2108b",
   "metadata": {},
   "outputs": [],
   "source": [
    "# Drop rows with missing values for the 'Description' column \n",
    "df.dropna(subset=['Description'],inplace= True)"
   ]
  },
  {
   "cell_type": "code",
   "execution_count": 9,
   "id": "0bf53546",
   "metadata": {},
   "outputs": [],
   "source": [
    "# Fill in missing values for the 'CustomerID' column with a default value= \"Guest\"\n",
    "df['CustomerID'] = df['CustomerID'].fillna('Guest')"
   ]
  },
  {
   "cell_type": "code",
   "execution_count": 10,
   "id": "4233adf4",
   "metadata": {},
   "outputs": [
    {
     "data": {
      "text/plain": [
       "InvoiceNo      0\n",
       "StockCode      0\n",
       "Description    0\n",
       "Quantity       0\n",
       "InvoiceDate    0\n",
       "UnitPrice      0\n",
       "CustomerID     0\n",
       "Country        0\n",
       "dtype: int64"
      ]
     },
     "execution_count": 10,
     "metadata": {},
     "output_type": "execute_result"
    }
   ],
   "source": [
    "df.isnull().sum()"
   ]
  },
  {
   "cell_type": "code",
   "execution_count": 11,
   "id": "cd050372",
   "metadata": {},
   "outputs": [
    {
     "data": {
      "text/plain": [
       "InvoiceNo              object\n",
       "StockCode              object\n",
       "Description            object\n",
       "Quantity                int64\n",
       "InvoiceDate    datetime64[ns]\n",
       "UnitPrice             float64\n",
       "CustomerID             object\n",
       "Country                object\n",
       "dtype: object"
      ]
     },
     "execution_count": 11,
     "metadata": {},
     "output_type": "execute_result"
    }
   ],
   "source": [
    "# Let's check the datatypes again after replacting te missing values in 'ÇustomerID' column\n",
    "df.dtypes"
   ]
  },
  {
   "cell_type": "markdown",
   "id": "e402a26c",
   "metadata": {},
   "source": [
    "- The 'CustomerID' datatypes changed from float64 to Object and we do not need to perform any mathematical operation on this column so it is an acceptable alteration"
   ]
  },
  {
   "cell_type": "markdown",
   "id": "081bf471",
   "metadata": {},
   "source": [
    "#### Handling the Negative 'Quantity' values:"
   ]
  },
  {
   "cell_type": "code",
   "execution_count": 12,
   "id": "ed705b5e",
   "metadata": {},
   "outputs": [
    {
     "name": "stdout",
     "output_type": "stream",
     "text": [
      "Number of negative values in Quantity column: 9762\n"
     ]
    }
   ],
   "source": [
    "# As I was going through the Excel sheet of the current dataset, I have found that it has some negative values in the Quantity column which is not valid\n",
    "num_negatives = (df['Quantity'] < 0).sum()\n",
    "print(\"Number of negative values in Quantity column:\", num_negatives)"
   ]
  },
  {
   "cell_type": "markdown",
   "id": "6904c791",
   "metadata": {},
   "source": [
    "#### We can handle these negative quantity values in the following ways:\n",
    "- Excluding the negative values (which will a loss of a big chunk of data)\n",
    "- Treating the negative values as positive (which is not a very reasonable solution because the results insights it will give would be very different from the actual data)\n",
    "- Creating a new variable as 'Returned' which will return Yes for the returned values and No otherwise; and after that we can replace the negative values as 0 as it can not be considered as actual orders. (I think this will be the best way to handle this anomaly)"
   ]
  },
  {
   "cell_type": "code",
   "execution_count": 13,
   "id": "2b36eb5f",
   "metadata": {},
   "outputs": [],
   "source": [
    "# Create Returned column\n",
    "import numpy as np\n",
    "df['Returned'] = np.where(df['Quantity']< 0, 'Yes', 'No')\n"
   ]
  },
  {
   "cell_type": "code",
   "execution_count": 14,
   "id": "f9a92e56",
   "metadata": {},
   "outputs": [],
   "source": [
    "# Replace the negative values in the 'Quantity' column with 0 \n",
    "df['Quantity'] = df['Quantity'].where(df['Quantity'] >= 0, 0)"
   ]
  },
  {
   "cell_type": "code",
   "execution_count": 15,
   "id": "c9f06815",
   "metadata": {},
   "outputs": [
    {
     "data": {
      "text/html": [
       "<div>\n",
       "<style scoped>\n",
       "    .dataframe tbody tr th:only-of-type {\n",
       "        vertical-align: middle;\n",
       "    }\n",
       "\n",
       "    .dataframe tbody tr th {\n",
       "        vertical-align: top;\n",
       "    }\n",
       "\n",
       "    .dataframe thead th {\n",
       "        text-align: right;\n",
       "    }\n",
       "</style>\n",
       "<table border=\"1\" class=\"dataframe\">\n",
       "  <thead>\n",
       "    <tr style=\"text-align: right;\">\n",
       "      <th></th>\n",
       "      <th>InvoiceNo</th>\n",
       "      <th>StockCode</th>\n",
       "      <th>Description</th>\n",
       "      <th>Quantity</th>\n",
       "      <th>InvoiceDate</th>\n",
       "      <th>UnitPrice</th>\n",
       "      <th>CustomerID</th>\n",
       "      <th>Country</th>\n",
       "      <th>Returned</th>\n",
       "    </tr>\n",
       "  </thead>\n",
       "  <tbody>\n",
       "    <tr>\n",
       "      <th>0</th>\n",
       "      <td>536365</td>\n",
       "      <td>85123A</td>\n",
       "      <td>WHITE HANGING HEART T-LIGHT HOLDER</td>\n",
       "      <td>6</td>\n",
       "      <td>2010-12-01 08:26:00</td>\n",
       "      <td>2.55</td>\n",
       "      <td>17850.0</td>\n",
       "      <td>United Kingdom</td>\n",
       "      <td>No</td>\n",
       "    </tr>\n",
       "    <tr>\n",
       "      <th>1</th>\n",
       "      <td>536365</td>\n",
       "      <td>71053</td>\n",
       "      <td>WHITE METAL LANTERN</td>\n",
       "      <td>6</td>\n",
       "      <td>2010-12-01 08:26:00</td>\n",
       "      <td>3.39</td>\n",
       "      <td>17850.0</td>\n",
       "      <td>United Kingdom</td>\n",
       "      <td>No</td>\n",
       "    </tr>\n",
       "    <tr>\n",
       "      <th>2</th>\n",
       "      <td>536365</td>\n",
       "      <td>84406B</td>\n",
       "      <td>CREAM CUPID HEARTS COAT HANGER</td>\n",
       "      <td>8</td>\n",
       "      <td>2010-12-01 08:26:00</td>\n",
       "      <td>2.75</td>\n",
       "      <td>17850.0</td>\n",
       "      <td>United Kingdom</td>\n",
       "      <td>No</td>\n",
       "    </tr>\n",
       "    <tr>\n",
       "      <th>3</th>\n",
       "      <td>536365</td>\n",
       "      <td>84029G</td>\n",
       "      <td>KNITTED UNION FLAG HOT WATER BOTTLE</td>\n",
       "      <td>6</td>\n",
       "      <td>2010-12-01 08:26:00</td>\n",
       "      <td>3.39</td>\n",
       "      <td>17850.0</td>\n",
       "      <td>United Kingdom</td>\n",
       "      <td>No</td>\n",
       "    </tr>\n",
       "    <tr>\n",
       "      <th>4</th>\n",
       "      <td>536365</td>\n",
       "      <td>84029E</td>\n",
       "      <td>RED WOOLLY HOTTIE WHITE HEART.</td>\n",
       "      <td>6</td>\n",
       "      <td>2010-12-01 08:26:00</td>\n",
       "      <td>3.39</td>\n",
       "      <td>17850.0</td>\n",
       "      <td>United Kingdom</td>\n",
       "      <td>No</td>\n",
       "    </tr>\n",
       "  </tbody>\n",
       "</table>\n",
       "</div>"
      ],
      "text/plain": [
       "  InvoiceNo StockCode                          Description  Quantity  \\\n",
       "0    536365    85123A   WHITE HANGING HEART T-LIGHT HOLDER         6   \n",
       "1    536365     71053                  WHITE METAL LANTERN         6   \n",
       "2    536365    84406B       CREAM CUPID HEARTS COAT HANGER         8   \n",
       "3    536365    84029G  KNITTED UNION FLAG HOT WATER BOTTLE         6   \n",
       "4    536365    84029E       RED WOOLLY HOTTIE WHITE HEART.         6   \n",
       "\n",
       "          InvoiceDate  UnitPrice CustomerID         Country Returned  \n",
       "0 2010-12-01 08:26:00       2.55    17850.0  United Kingdom       No  \n",
       "1 2010-12-01 08:26:00       3.39    17850.0  United Kingdom       No  \n",
       "2 2010-12-01 08:26:00       2.75    17850.0  United Kingdom       No  \n",
       "3 2010-12-01 08:26:00       3.39    17850.0  United Kingdom       No  \n",
       "4 2010-12-01 08:26:00       3.39    17850.0  United Kingdom       No  "
      ]
     },
     "execution_count": 15,
     "metadata": {},
     "output_type": "execute_result"
    }
   ],
   "source": [
    "df.head()"
   ]
  },
  {
   "cell_type": "code",
   "execution_count": 16,
   "id": "1ed664af",
   "metadata": {},
   "outputs": [
    {
     "name": "stdout",
     "output_type": "stream",
     "text": [
      "Number of negative values in Quantity column: 0\n"
     ]
    }
   ],
   "source": [
    "# Check for the negative values in the 'Quantity' column after the above changes\n",
    "num_negatives = (df['Quantity'] < 0).sum()\n",
    "print(\"Number of negative values in Quantity column:\", num_negatives)"
   ]
  },
  {
   "cell_type": "markdown",
   "id": "4710962e",
   "metadata": {},
   "source": [
    "#### Handling the cancelled orders:\n",
    " According to the attribute information given above, the 'InvoiveNo' starting with 'C' are the cancelled orders. And we need to replace the 'Quantity' as 0 for those records as well."
   ]
  },
  {
   "cell_type": "code",
   "execution_count": 17,
   "id": "9c1325f8",
   "metadata": {},
   "outputs": [],
   "source": [
    "# Replace the 'Returned' column by 'Returned/Cancelled' putting 'Yes' for Returned/Cancelled orders and 'No' for actual orders in this new column\n",
    "df=df.drop('Returned', axis=1)\n",
    "\n",
    "import numpy as np\n",
    "df['Returned/Cancelled'] = np.where(df['Quantity']< 0 | df['InvoiceNo'].str.startswith('C'), 'Yes', 'No')\n"
   ]
  },
  {
   "cell_type": "code",
   "execution_count": 18,
   "id": "7aa6725f",
   "metadata": {
    "scrolled": true
   },
   "outputs": [],
   "source": [
    "# Replace 'Quantity' column with 0 if there is negative values in the 'Quantity' column or if the InvoiceNo starts with 'C'\n",
    "df['Quantity'] = np.where(df['Quantity'] < 0 | (df['InvoiceNo'].str.startswith('C')), 0, df['Quantity'])"
   ]
  },
  {
   "cell_type": "code",
   "execution_count": 19,
   "id": "e3dcdfa4",
   "metadata": {
    "scrolled": true
   },
   "outputs": [
    {
     "data": {
      "text/html": [
       "<div>\n",
       "<style scoped>\n",
       "    .dataframe tbody tr th:only-of-type {\n",
       "        vertical-align: middle;\n",
       "    }\n",
       "\n",
       "    .dataframe tbody tr th {\n",
       "        vertical-align: top;\n",
       "    }\n",
       "\n",
       "    .dataframe thead th {\n",
       "        text-align: right;\n",
       "    }\n",
       "</style>\n",
       "<table border=\"1\" class=\"dataframe\">\n",
       "  <thead>\n",
       "    <tr style=\"text-align: right;\">\n",
       "      <th></th>\n",
       "      <th>InvoiceNo</th>\n",
       "      <th>StockCode</th>\n",
       "      <th>Description</th>\n",
       "      <th>Quantity</th>\n",
       "      <th>InvoiceDate</th>\n",
       "      <th>UnitPrice</th>\n",
       "      <th>CustomerID</th>\n",
       "      <th>Country</th>\n",
       "      <th>Returned/Cancelled</th>\n",
       "    </tr>\n",
       "  </thead>\n",
       "  <tbody>\n",
       "    <tr>\n",
       "      <th>0</th>\n",
       "      <td>536365</td>\n",
       "      <td>85123A</td>\n",
       "      <td>WHITE HANGING HEART T-LIGHT HOLDER</td>\n",
       "      <td>6</td>\n",
       "      <td>2010-12-01 08:26:00</td>\n",
       "      <td>2.55</td>\n",
       "      <td>17850.0</td>\n",
       "      <td>United Kingdom</td>\n",
       "      <td>No</td>\n",
       "    </tr>\n",
       "    <tr>\n",
       "      <th>1</th>\n",
       "      <td>536365</td>\n",
       "      <td>71053</td>\n",
       "      <td>WHITE METAL LANTERN</td>\n",
       "      <td>6</td>\n",
       "      <td>2010-12-01 08:26:00</td>\n",
       "      <td>3.39</td>\n",
       "      <td>17850.0</td>\n",
       "      <td>United Kingdom</td>\n",
       "      <td>No</td>\n",
       "    </tr>\n",
       "    <tr>\n",
       "      <th>2</th>\n",
       "      <td>536365</td>\n",
       "      <td>84406B</td>\n",
       "      <td>CREAM CUPID HEARTS COAT HANGER</td>\n",
       "      <td>8</td>\n",
       "      <td>2010-12-01 08:26:00</td>\n",
       "      <td>2.75</td>\n",
       "      <td>17850.0</td>\n",
       "      <td>United Kingdom</td>\n",
       "      <td>No</td>\n",
       "    </tr>\n",
       "    <tr>\n",
       "      <th>3</th>\n",
       "      <td>536365</td>\n",
       "      <td>84029G</td>\n",
       "      <td>KNITTED UNION FLAG HOT WATER BOTTLE</td>\n",
       "      <td>6</td>\n",
       "      <td>2010-12-01 08:26:00</td>\n",
       "      <td>3.39</td>\n",
       "      <td>17850.0</td>\n",
       "      <td>United Kingdom</td>\n",
       "      <td>No</td>\n",
       "    </tr>\n",
       "    <tr>\n",
       "      <th>4</th>\n",
       "      <td>536365</td>\n",
       "      <td>84029E</td>\n",
       "      <td>RED WOOLLY HOTTIE WHITE HEART.</td>\n",
       "      <td>6</td>\n",
       "      <td>2010-12-01 08:26:00</td>\n",
       "      <td>3.39</td>\n",
       "      <td>17850.0</td>\n",
       "      <td>United Kingdom</td>\n",
       "      <td>No</td>\n",
       "    </tr>\n",
       "    <tr>\n",
       "      <th>...</th>\n",
       "      <td>...</td>\n",
       "      <td>...</td>\n",
       "      <td>...</td>\n",
       "      <td>...</td>\n",
       "      <td>...</td>\n",
       "      <td>...</td>\n",
       "      <td>...</td>\n",
       "      <td>...</td>\n",
       "      <td>...</td>\n",
       "    </tr>\n",
       "    <tr>\n",
       "      <th>154</th>\n",
       "      <td>C536383</td>\n",
       "      <td>35004C</td>\n",
       "      <td>SET OF 3 COLOURED  FLYING DUCKS</td>\n",
       "      <td>0</td>\n",
       "      <td>2010-12-01 09:49:00</td>\n",
       "      <td>4.65</td>\n",
       "      <td>15311.0</td>\n",
       "      <td>United Kingdom</td>\n",
       "      <td>Yes</td>\n",
       "    </tr>\n",
       "    <tr>\n",
       "      <th>155</th>\n",
       "      <td>536384</td>\n",
       "      <td>82484</td>\n",
       "      <td>WOOD BLACK BOARD ANT WHITE FINISH</td>\n",
       "      <td>3</td>\n",
       "      <td>2010-12-01 09:53:00</td>\n",
       "      <td>6.45</td>\n",
       "      <td>18074.0</td>\n",
       "      <td>United Kingdom</td>\n",
       "      <td>No</td>\n",
       "    </tr>\n",
       "    <tr>\n",
       "      <th>156</th>\n",
       "      <td>536384</td>\n",
       "      <td>84755</td>\n",
       "      <td>COLOUR GLASS T-LIGHT HOLDER HANGING</td>\n",
       "      <td>48</td>\n",
       "      <td>2010-12-01 09:53:00</td>\n",
       "      <td>0.65</td>\n",
       "      <td>18074.0</td>\n",
       "      <td>United Kingdom</td>\n",
       "      <td>No</td>\n",
       "    </tr>\n",
       "    <tr>\n",
       "      <th>157</th>\n",
       "      <td>536384</td>\n",
       "      <td>22464</td>\n",
       "      <td>HANGING METAL HEART LANTERN</td>\n",
       "      <td>12</td>\n",
       "      <td>2010-12-01 09:53:00</td>\n",
       "      <td>1.65</td>\n",
       "      <td>18074.0</td>\n",
       "      <td>United Kingdom</td>\n",
       "      <td>No</td>\n",
       "    </tr>\n",
       "    <tr>\n",
       "      <th>158</th>\n",
       "      <td>536384</td>\n",
       "      <td>21324</td>\n",
       "      <td>HANGING MEDINA LANTERN SMALL</td>\n",
       "      <td>6</td>\n",
       "      <td>2010-12-01 09:53:00</td>\n",
       "      <td>2.95</td>\n",
       "      <td>18074.0</td>\n",
       "      <td>United Kingdom</td>\n",
       "      <td>No</td>\n",
       "    </tr>\n",
       "  </tbody>\n",
       "</table>\n",
       "<p>159 rows × 9 columns</p>\n",
       "</div>"
      ],
      "text/plain": [
       "    InvoiceNo StockCode                          Description  Quantity  \\\n",
       "0      536365    85123A   WHITE HANGING HEART T-LIGHT HOLDER         6   \n",
       "1      536365     71053                  WHITE METAL LANTERN         6   \n",
       "2      536365    84406B       CREAM CUPID HEARTS COAT HANGER         8   \n",
       "3      536365    84029G  KNITTED UNION FLAG HOT WATER BOTTLE         6   \n",
       "4      536365    84029E       RED WOOLLY HOTTIE WHITE HEART.         6   \n",
       "..        ...       ...                                  ...       ...   \n",
       "154   C536383    35004C      SET OF 3 COLOURED  FLYING DUCKS         0   \n",
       "155    536384     82484    WOOD BLACK BOARD ANT WHITE FINISH         3   \n",
       "156    536384     84755  COLOUR GLASS T-LIGHT HOLDER HANGING        48   \n",
       "157    536384     22464          HANGING METAL HEART LANTERN        12   \n",
       "158    536384     21324         HANGING MEDINA LANTERN SMALL         6   \n",
       "\n",
       "            InvoiceDate  UnitPrice CustomerID         Country  \\\n",
       "0   2010-12-01 08:26:00       2.55    17850.0  United Kingdom   \n",
       "1   2010-12-01 08:26:00       3.39    17850.0  United Kingdom   \n",
       "2   2010-12-01 08:26:00       2.75    17850.0  United Kingdom   \n",
       "3   2010-12-01 08:26:00       3.39    17850.0  United Kingdom   \n",
       "4   2010-12-01 08:26:00       3.39    17850.0  United Kingdom   \n",
       "..                  ...        ...        ...             ...   \n",
       "154 2010-12-01 09:49:00       4.65    15311.0  United Kingdom   \n",
       "155 2010-12-01 09:53:00       6.45    18074.0  United Kingdom   \n",
       "156 2010-12-01 09:53:00       0.65    18074.0  United Kingdom   \n",
       "157 2010-12-01 09:53:00       1.65    18074.0  United Kingdom   \n",
       "158 2010-12-01 09:53:00       2.95    18074.0  United Kingdom   \n",
       "\n",
       "    Returned/Cancelled  \n",
       "0                   No  \n",
       "1                   No  \n",
       "2                   No  \n",
       "3                   No  \n",
       "4                   No  \n",
       "..                 ...  \n",
       "154                Yes  \n",
       "155                 No  \n",
       "156                 No  \n",
       "157                 No  \n",
       "158                 No  \n",
       "\n",
       "[159 rows x 9 columns]"
      ]
     },
     "execution_count": 19,
     "metadata": {},
     "output_type": "execute_result"
    }
   ],
   "source": [
    "df.head(159)"
   ]
  },
  {
   "cell_type": "markdown",
   "id": "e3a379b4",
   "metadata": {},
   "source": [
    "# Handling the outliers\n",
    "\n",
    "We still have outliers in the 'Quantity' and 'UnitPrice' columns and we need to handle the outliers in order to get accurate results."
   ]
  },
  {
   "cell_type": "code",
   "execution_count": 20,
   "id": "d28cd603",
   "metadata": {},
   "outputs": [
    {
     "data": {
      "text/html": [
       "<div>\n",
       "<style scoped>\n",
       "    .dataframe tbody tr th:only-of-type {\n",
       "        vertical-align: middle;\n",
       "    }\n",
       "\n",
       "    .dataframe tbody tr th {\n",
       "        vertical-align: top;\n",
       "    }\n",
       "\n",
       "    .dataframe thead th {\n",
       "        text-align: right;\n",
       "    }\n",
       "</style>\n",
       "<table border=\"1\" class=\"dataframe\">\n",
       "  <thead>\n",
       "    <tr style=\"text-align: right;\">\n",
       "      <th></th>\n",
       "      <th>Quantity</th>\n",
       "      <th>UnitPrice</th>\n",
       "    </tr>\n",
       "  </thead>\n",
       "  <tbody>\n",
       "    <tr>\n",
       "      <th>count</th>\n",
       "      <td>540455.000000</td>\n",
       "      <td>540455.000000</td>\n",
       "    </tr>\n",
       "    <tr>\n",
       "      <th>mean</th>\n",
       "      <td>10.414251</td>\n",
       "      <td>4.623519</td>\n",
       "    </tr>\n",
       "    <tr>\n",
       "      <th>std</th>\n",
       "      <td>155.223190</td>\n",
       "      <td>96.889628</td>\n",
       "    </tr>\n",
       "    <tr>\n",
       "      <th>min</th>\n",
       "      <td>0.000000</td>\n",
       "      <td>-11062.060000</td>\n",
       "    </tr>\n",
       "    <tr>\n",
       "      <th>25%</th>\n",
       "      <td>1.000000</td>\n",
       "      <td>1.250000</td>\n",
       "    </tr>\n",
       "    <tr>\n",
       "      <th>50%</th>\n",
       "      <td>3.000000</td>\n",
       "      <td>2.080000</td>\n",
       "    </tr>\n",
       "    <tr>\n",
       "      <th>75%</th>\n",
       "      <td>10.000000</td>\n",
       "      <td>4.130000</td>\n",
       "    </tr>\n",
       "    <tr>\n",
       "      <th>max</th>\n",
       "      <td>80995.000000</td>\n",
       "      <td>38970.000000</td>\n",
       "    </tr>\n",
       "  </tbody>\n",
       "</table>\n",
       "</div>"
      ],
      "text/plain": [
       "            Quantity      UnitPrice\n",
       "count  540455.000000  540455.000000\n",
       "mean       10.414251       4.623519\n",
       "std       155.223190      96.889628\n",
       "min         0.000000  -11062.060000\n",
       "25%         1.000000       1.250000\n",
       "50%         3.000000       2.080000\n",
       "75%        10.000000       4.130000\n",
       "max     80995.000000   38970.000000"
      ]
     },
     "execution_count": 20,
     "metadata": {},
     "output_type": "execute_result"
    }
   ],
   "source": [
    "df.describe()"
   ]
  },
  {
   "cell_type": "markdown",
   "id": "5e1c549d",
   "metadata": {},
   "source": [
    "### Quantity column"
   ]
  },
  {
   "cell_type": "code",
   "execution_count": 21,
   "id": "df1c050e",
   "metadata": {},
   "outputs": [
    {
     "data": {
      "text/plain": [
       "<AxesSubplot:>"
      ]
     },
     "execution_count": 21,
     "metadata": {},
     "output_type": "execute_result"
    },
    {
     "data": {
      "image/png": "[encoded data removed]",
      "text/plain": [
       "<Figure size 432x288 with 1 Axes>"
      ]
     },
     "metadata": {
      "needs_background": "light"
     },
     "output_type": "display_data"
    }
   ],
   "source": [
    "import seaborn as sns\n",
    "sns.boxplot(data=df['Quantity'], orient='h')"
   ]
  },
  {
   "cell_type": "markdown",
   "id": "9a7ca93f",
   "metadata": {},
   "source": [
    "As you can see, there are 3 big outliers present in the 'Quantity' column. So, we must remove them in order to get better insights on our dataset"
   ]
  },
  {
   "cell_type": "code",
   "execution_count": 22,
   "id": "569a2690",
   "metadata": {},
   "outputs": [],
   "source": [
    "## Let's define an outlier detector function\n",
    "def max_value(dataset):\n",
    "    data= sorted(dataset)\n",
    "    maxim=np.percentile(data, [100])\n",
    "    inplace=True\n",
    "    return float(maxim)    "
   ]
  },
  {
   "cell_type": "code",
   "execution_count": 23,
   "id": "21f14a12",
   "metadata": {},
   "outputs": [
    {
     "data": {
      "text/plain": [
       "<AxesSubplot:>"
      ]
     },
     "execution_count": 23,
     "metadata": {},
     "output_type": "execute_result"
    },
    {
     "data": {
      "image/png": "[encoded data removed]",
      "text/plain": [
       "<Figure size 432x288 with 1 Axes>"
      ]
     },
     "metadata": {
      "needs_background": "light"
     },
     "output_type": "display_data"
    }
   ],
   "source": [
    "# Removing the 3 extreme values\n",
    "for i in range(0,3):\n",
    "    df=df[df['Quantity']!=max_value(df['Quantity'])]\n",
    "     \n",
    "sns.boxplot(data=df['Quantity'], orient='h')"
   ]
  },
  {
   "cell_type": "code",
   "execution_count": 24,
   "id": "205b5ee8",
   "metadata": {},
   "outputs": [
    {
     "name": "stdout",
     "output_type": "stream",
     "text": [
      "4800.0\n"
     ]
    }
   ],
   "source": [
    "print(max_value(df['Quantity']))"
   ]
  },
  {
   "cell_type": "markdown",
   "id": "6e404306",
   "metadata": {},
   "source": [
    "## UnitPrice Column"
   ]
  },
  {
   "cell_type": "code",
   "execution_count": 25,
   "id": "cfc6ac20",
   "metadata": {},
   "outputs": [
    {
     "data": {
      "text/plain": [
       "<AxesSubplot:>"
      ]
     },
     "execution_count": 25,
     "metadata": {},
     "output_type": "execute_result"
    },
    {
     "data": {
      "image/png": "[encoded data removed]",
      "text/plain": [
       "<Figure size 432x288 with 1 Axes>"
      ]
     },
     "metadata": {
      "needs_background": "light"
     },
     "output_type": "display_data"
    }
   ],
   "source": [
    "sns.boxplot(data=df['UnitPrice'], orient='h')"
   ]
  },
  {
   "cell_type": "markdown",
   "id": "c371f69d",
   "metadata": {},
   "source": [
    "It has negative values which are invalid and 1 big outlier, which needs to be removed"
   ]
  },
  {
   "cell_type": "code",
   "execution_count": 26,
   "id": "e5d30081",
   "metadata": {},
   "outputs": [
    {
     "data": {
      "text/plain": [
       "<AxesSubplot:>"
      ]
     },
     "execution_count": 26,
     "metadata": {},
     "output_type": "execute_result"
    },
    {
     "data": {
      "image/png": "[encoded data removed]",
      "text/plain": [
       "<Figure size 432x288 with 1 Axes>"
      ]
     },
     "metadata": {
      "needs_background": "light"
     },
     "output_type": "display_data"
    }
   ],
   "source": [
    "df=df[df['UnitPrice']>=0]\n",
    "df=df[df['UnitPrice']!=max_value(df['UnitPrice'])]\n",
    "sns.boxplot(data=df['UnitPrice'], orient='h')"
   ]
  },
  {
   "cell_type": "markdown",
   "id": "9a879522",
   "metadata": {},
   "source": [
    "# SQL Operations on the dataset"
   ]
  },
  {
   "cell_type": "markdown",
   "id": "abfa241b",
   "metadata": {},
   "source": [
    "We are done with the data cleaning part. Now let's write some SQL queries to get insights on this dataset"
   ]
  },
  {
   "cell_type": "code",
   "execution_count": 27,
   "id": "5f43df0f",
   "metadata": {},
   "outputs": [],
   "source": [
    "import sqlite3"
   ]
  },
  {
   "cell_type": "code",
   "execution_count": 28,
   "id": "10740851",
   "metadata": {},
   "outputs": [],
   "source": [
    "conn = sqlite3.connect('Online_retail.db')"
   ]
  },
  {
   "cell_type": "code",
   "execution_count": 29,
   "id": "4e2b66d4",
   "metadata": {},
   "outputs": [
    {
     "data": {
      "text/plain": [
       "540449"
      ]
     },
     "execution_count": 29,
     "metadata": {},
     "output_type": "execute_result"
    }
   ],
   "source": [
    "df.to_sql('Retail', conn, if_exists='replace', index=False)"
   ]
  },
  {
   "cell_type": "code",
   "execution_count": 30,
   "id": "f662eaff",
   "metadata": {},
   "outputs": [
    {
     "data": {
      "text/html": [
       "<div>\n",
       "<style scoped>\n",
       "    .dataframe tbody tr th:only-of-type {\n",
       "        vertical-align: middle;\n",
       "    }\n",
       "\n",
       "    .dataframe tbody tr th {\n",
       "        vertical-align: top;\n",
       "    }\n",
       "\n",
       "    .dataframe thead th {\n",
       "        text-align: right;\n",
       "    }\n",
       "</style>\n",
       "<table border=\"1\" class=\"dataframe\">\n",
       "  <thead>\n",
       "    <tr style=\"text-align: right;\">\n",
       "      <th></th>\n",
       "      <th>InvoiceNo</th>\n",
       "      <th>StockCode</th>\n",
       "      <th>Description</th>\n",
       "      <th>Quantity</th>\n",
       "      <th>InvoiceDate</th>\n",
       "      <th>UnitPrice</th>\n",
       "      <th>CustomerID</th>\n",
       "      <th>Country</th>\n",
       "      <th>Returned/Cancelled</th>\n",
       "    </tr>\n",
       "  </thead>\n",
       "  <tbody>\n",
       "    <tr>\n",
       "      <th>0</th>\n",
       "      <td>536365</td>\n",
       "      <td>85123A</td>\n",
       "      <td>WHITE HANGING HEART T-LIGHT HOLDER</td>\n",
       "      <td>6</td>\n",
       "      <td>2010-12-01 08:26:00</td>\n",
       "      <td>2.55</td>\n",
       "      <td>17850.0</td>\n",
       "      <td>United Kingdom</td>\n",
       "      <td>No</td>\n",
       "    </tr>\n",
       "    <tr>\n",
       "      <th>1</th>\n",
       "      <td>536365</td>\n",
       "      <td>71053</td>\n",
       "      <td>WHITE METAL LANTERN</td>\n",
       "      <td>6</td>\n",
       "      <td>2010-12-01 08:26:00</td>\n",
       "      <td>3.39</td>\n",
       "      <td>17850.0</td>\n",
       "      <td>United Kingdom</td>\n",
       "      <td>No</td>\n",
       "    </tr>\n",
       "    <tr>\n",
       "      <th>2</th>\n",
       "      <td>536365</td>\n",
       "      <td>84406B</td>\n",
       "      <td>CREAM CUPID HEARTS COAT HANGER</td>\n",
       "      <td>8</td>\n",
       "      <td>2010-12-01 08:26:00</td>\n",
       "      <td>2.75</td>\n",
       "      <td>17850.0</td>\n",
       "      <td>United Kingdom</td>\n",
       "      <td>No</td>\n",
       "    </tr>\n",
       "    <tr>\n",
       "      <th>3</th>\n",
       "      <td>536365</td>\n",
       "      <td>84029G</td>\n",
       "      <td>KNITTED UNION FLAG HOT WATER BOTTLE</td>\n",
       "      <td>6</td>\n",
       "      <td>2010-12-01 08:26:00</td>\n",
       "      <td>3.39</td>\n",
       "      <td>17850.0</td>\n",
       "      <td>United Kingdom</td>\n",
       "      <td>No</td>\n",
       "    </tr>\n",
       "    <tr>\n",
       "      <th>4</th>\n",
       "      <td>536365</td>\n",
       "      <td>84029E</td>\n",
       "      <td>RED WOOLLY HOTTIE WHITE HEART.</td>\n",
       "      <td>6</td>\n",
       "      <td>2010-12-01 08:26:00</td>\n",
       "      <td>3.39</td>\n",
       "      <td>17850.0</td>\n",
       "      <td>United Kingdom</td>\n",
       "      <td>No</td>\n",
       "    </tr>\n",
       "    <tr>\n",
       "      <th>...</th>\n",
       "      <td>...</td>\n",
       "      <td>...</td>\n",
       "      <td>...</td>\n",
       "      <td>...</td>\n",
       "      <td>...</td>\n",
       "      <td>...</td>\n",
       "      <td>...</td>\n",
       "      <td>...</td>\n",
       "      <td>...</td>\n",
       "    </tr>\n",
       "    <tr>\n",
       "      <th>540444</th>\n",
       "      <td>581587</td>\n",
       "      <td>22613</td>\n",
       "      <td>PACK OF 20 SPACEBOY NAPKINS</td>\n",
       "      <td>12</td>\n",
       "      <td>2011-12-09 12:50:00</td>\n",
       "      <td>0.85</td>\n",
       "      <td>12680.0</td>\n",
       "      <td>France</td>\n",
       "      <td>No</td>\n",
       "    </tr>\n",
       "    <tr>\n",
       "      <th>540445</th>\n",
       "      <td>581587</td>\n",
       "      <td>22899</td>\n",
       "      <td>CHILDREN'S APRON DOLLY GIRL</td>\n",
       "      <td>6</td>\n",
       "      <td>2011-12-09 12:50:00</td>\n",
       "      <td>2.10</td>\n",
       "      <td>12680.0</td>\n",
       "      <td>France</td>\n",
       "      <td>No</td>\n",
       "    </tr>\n",
       "    <tr>\n",
       "      <th>540446</th>\n",
       "      <td>581587</td>\n",
       "      <td>23254</td>\n",
       "      <td>CHILDRENS CUTLERY DOLLY GIRL</td>\n",
       "      <td>4</td>\n",
       "      <td>2011-12-09 12:50:00</td>\n",
       "      <td>4.15</td>\n",
       "      <td>12680.0</td>\n",
       "      <td>France</td>\n",
       "      <td>No</td>\n",
       "    </tr>\n",
       "    <tr>\n",
       "      <th>540447</th>\n",
       "      <td>581587</td>\n",
       "      <td>23255</td>\n",
       "      <td>CHILDRENS CUTLERY CIRCUS PARADE</td>\n",
       "      <td>4</td>\n",
       "      <td>2011-12-09 12:50:00</td>\n",
       "      <td>4.15</td>\n",
       "      <td>12680.0</td>\n",
       "      <td>France</td>\n",
       "      <td>No</td>\n",
       "    </tr>\n",
       "    <tr>\n",
       "      <th>540448</th>\n",
       "      <td>581587</td>\n",
       "      <td>22138</td>\n",
       "      <td>BAKING SET 9 PIECE RETROSPOT</td>\n",
       "      <td>3</td>\n",
       "      <td>2011-12-09 12:50:00</td>\n",
       "      <td>4.95</td>\n",
       "      <td>12680.0</td>\n",
       "      <td>France</td>\n",
       "      <td>No</td>\n",
       "    </tr>\n",
       "  </tbody>\n",
       "</table>\n",
       "<p>540449 rows × 9 columns</p>\n",
       "</div>"
      ],
      "text/plain": [
       "       InvoiceNo StockCode                          Description  Quantity  \\\n",
       "0         536365    85123A   WHITE HANGING HEART T-LIGHT HOLDER         6   \n",
       "1         536365     71053                  WHITE METAL LANTERN         6   \n",
       "2         536365    84406B       CREAM CUPID HEARTS COAT HANGER         8   \n",
       "3         536365    84029G  KNITTED UNION FLAG HOT WATER BOTTLE         6   \n",
       "4         536365    84029E       RED WOOLLY HOTTIE WHITE HEART.         6   \n",
       "...          ...       ...                                  ...       ...   \n",
       "540444    581587     22613          PACK OF 20 SPACEBOY NAPKINS        12   \n",
       "540445    581587     22899         CHILDREN'S APRON DOLLY GIRL          6   \n",
       "540446    581587     23254        CHILDRENS CUTLERY DOLLY GIRL          4   \n",
       "540447    581587     23255      CHILDRENS CUTLERY CIRCUS PARADE         4   \n",
       "540448    581587     22138        BAKING SET 9 PIECE RETROSPOT          3   \n",
       "\n",
       "                InvoiceDate  UnitPrice CustomerID         Country  \\\n",
       "0       2010-12-01 08:26:00       2.55    17850.0  United Kingdom   \n",
       "1       2010-12-01 08:26:00       3.39    17850.0  United Kingdom   \n",
       "2       2010-12-01 08:26:00       2.75    17850.0  United Kingdom   \n",
       "3       2010-12-01 08:26:00       3.39    17850.0  United Kingdom   \n",
       "4       2010-12-01 08:26:00       3.39    17850.0  United Kingdom   \n",
       "...                     ...        ...        ...             ...   \n",
       "540444  2011-12-09 12:50:00       0.85    12680.0          France   \n",
       "540445  2011-12-09 12:50:00       2.10    12680.0          France   \n",
       "540446  2011-12-09 12:50:00       4.15    12680.0          France   \n",
       "540447  2011-12-09 12:50:00       4.15    12680.0          France   \n",
       "540448  2011-12-09 12:50:00       4.95    12680.0          France   \n",
       "\n",
       "       Returned/Cancelled  \n",
       "0                      No  \n",
       "1                      No  \n",
       "2                      No  \n",
       "3                      No  \n",
       "4                      No  \n",
       "...                   ...  \n",
       "540444                 No  \n",
       "540445                 No  \n",
       "540446                 No  \n",
       "540447                 No  \n",
       "540448                 No  \n",
       "\n",
       "[540449 rows x 9 columns]"
      ]
     },
     "execution_count": 30,
     "metadata": {},
     "output_type": "execute_result"
    }
   ],
   "source": [
    "#Viewing the created table\n",
    "query = 'Select * from Retail'\n",
    "pd.read_sql_query(query, conn)"
   ]
  },
  {
   "cell_type": "markdown",
   "id": "4dfcad9c",
   "metadata": {},
   "source": [
    " ### 1. Which country is generating the highest revenue, and which country is generating the lowest?"
   ]
  },
  {
   "cell_type": "code",
   "execution_count": 31,
   "id": "aba04bb9",
   "metadata": {},
   "outputs": [
    {
     "data": {
      "text/html": [
       "<div>\n",
       "<style scoped>\n",
       "    .dataframe tbody tr th:only-of-type {\n",
       "        vertical-align: middle;\n",
       "    }\n",
       "\n",
       "    .dataframe tbody tr th {\n",
       "        vertical-align: top;\n",
       "    }\n",
       "\n",
       "    .dataframe thead th {\n",
       "        text-align: right;\n",
       "    }\n",
       "</style>\n",
       "<table border=\"1\" class=\"dataframe\">\n",
       "  <thead>\n",
       "    <tr style=\"text-align: right;\">\n",
       "      <th></th>\n",
       "      <th>Country</th>\n",
       "      <th>Revenue</th>\n",
       "    </tr>\n",
       "  </thead>\n",
       "  <tbody>\n",
       "    <tr>\n",
       "      <th>0</th>\n",
       "      <td>United Kingdom</td>\n",
       "      <td>8.779569e+06</td>\n",
       "    </tr>\n",
       "    <tr>\n",
       "      <th>1</th>\n",
       "      <td>Saudi Arabia</td>\n",
       "      <td>1.459200e+02</td>\n",
       "    </tr>\n",
       "  </tbody>\n",
       "</table>\n",
       "</div>"
      ],
      "text/plain": [
       "          Country       Revenue\n",
       "0  United Kingdom  8.779569e+06\n",
       "1    Saudi Arabia  1.459200e+02"
      ]
     },
     "execution_count": 31,
     "metadata": {},
     "output_type": "execute_result"
    }
   ],
   "source": [
    "query= '''With cte as \n",
    "            (Select Country, sum(Quantity*UnitPrice) as Revenue \n",
    "            From Retail\n",
    "            Group by country)\n",
    "          Select Country, Revenue \n",
    "          from cte \n",
    "          where revenue = (select min(revenue) from cte)\n",
    "          Union \n",
    "          Select Country, Revenue\n",
    "          from cte\n",
    "          where revenue = (select max(revenue) from cte)\n",
    "          order by revenue desc'''\n",
    "pd.read_sql_query(query, conn)"
   ]
  },
  {
   "cell_type": "markdown",
   "id": "7d63f59e",
   "metadata": {},
   "source": [
    "#### Result:\n",
    "###### Highest Revenue Generating Country:\n",
    "United Kingdom (£8779569)\n",
    "###### Lowest Revenue Generating Country:\n",
    "Saudi Arabia (£145.92)\n"
   ]
  },
  {
   "cell_type": "markdown",
   "id": "60633178",
   "metadata": {},
   "source": [
    "### 2. What is the monthly trend of revenue, which months have faced the biggest increase/decrease?"
   ]
  },
  {
   "cell_type": "code",
   "execution_count": 32,
   "id": "b3bc7adb",
   "metadata": {
    "scrolled": true
   },
   "outputs": [
    {
     "data": {
      "text/html": [
       "<div>\n",
       "<style scoped>\n",
       "    .dataframe tbody tr th:only-of-type {\n",
       "        vertical-align: middle;\n",
       "    }\n",
       "\n",
       "    .dataframe tbody tr th {\n",
       "        vertical-align: top;\n",
       "    }\n",
       "\n",
       "    .dataframe thead th {\n",
       "        text-align: right;\n",
       "    }\n",
       "</style>\n",
       "<table border=\"1\" class=\"dataframe\">\n",
       "  <thead>\n",
       "    <tr style=\"text-align: right;\">\n",
       "      <th></th>\n",
       "      <th>Monthly_revenue</th>\n",
       "      <th>Month</th>\n",
       "      <th>Year</th>\n",
       "    </tr>\n",
       "  </thead>\n",
       "  <tbody>\n",
       "    <tr>\n",
       "      <th>0</th>\n",
       "      <td>823746.140</td>\n",
       "      <td>12</td>\n",
       "      <td>2010</td>\n",
       "    </tr>\n",
       "    <tr>\n",
       "      <th>1</th>\n",
       "      <td>614180.960</td>\n",
       "      <td>01</td>\n",
       "      <td>2011</td>\n",
       "    </tr>\n",
       "    <tr>\n",
       "      <th>2</th>\n",
       "      <td>523631.890</td>\n",
       "      <td>02</td>\n",
       "      <td>2011</td>\n",
       "    </tr>\n",
       "    <tr>\n",
       "      <th>3</th>\n",
       "      <td>717639.360</td>\n",
       "      <td>03</td>\n",
       "      <td>2011</td>\n",
       "    </tr>\n",
       "    <tr>\n",
       "      <th>4</th>\n",
       "      <td>537808.621</td>\n",
       "      <td>04</td>\n",
       "      <td>2011</td>\n",
       "    </tr>\n",
       "    <tr>\n",
       "      <th>5</th>\n",
       "      <td>770536.020</td>\n",
       "      <td>05</td>\n",
       "      <td>2011</td>\n",
       "    </tr>\n",
       "    <tr>\n",
       "      <th>6</th>\n",
       "      <td>761739.900</td>\n",
       "      <td>06</td>\n",
       "      <td>2011</td>\n",
       "    </tr>\n",
       "    <tr>\n",
       "      <th>7</th>\n",
       "      <td>719221.191</td>\n",
       "      <td>07</td>\n",
       "      <td>2011</td>\n",
       "    </tr>\n",
       "    <tr>\n",
       "      <th>8</th>\n",
       "      <td>759138.380</td>\n",
       "      <td>08</td>\n",
       "      <td>2011</td>\n",
       "    </tr>\n",
       "    <tr>\n",
       "      <th>9</th>\n",
       "      <td>1058590.172</td>\n",
       "      <td>09</td>\n",
       "      <td>2011</td>\n",
       "    </tr>\n",
       "    <tr>\n",
       "      <th>10</th>\n",
       "      <td>1154979.300</td>\n",
       "      <td>10</td>\n",
       "      <td>2011</td>\n",
       "    </tr>\n",
       "    <tr>\n",
       "      <th>11</th>\n",
       "      <td>1509496.330</td>\n",
       "      <td>11</td>\n",
       "      <td>2011</td>\n",
       "    </tr>\n",
       "    <tr>\n",
       "      <th>12</th>\n",
       "      <td>470323.080</td>\n",
       "      <td>12</td>\n",
       "      <td>2011</td>\n",
       "    </tr>\n",
       "  </tbody>\n",
       "</table>\n",
       "</div>"
      ],
      "text/plain": [
       "    Monthly_revenue Month  Year\n",
       "0        823746.140    12  2010\n",
       "1        614180.960    01  2011\n",
       "2        523631.890    02  2011\n",
       "3        717639.360    03  2011\n",
       "4        537808.621    04  2011\n",
       "5        770536.020    05  2011\n",
       "6        761739.900    06  2011\n",
       "7        719221.191    07  2011\n",
       "8        759138.380    08  2011\n",
       "9       1058590.172    09  2011\n",
       "10      1154979.300    10  2011\n",
       "11      1509496.330    11  2011\n",
       "12       470323.080    12  2011"
      ]
     },
     "execution_count": 32,
     "metadata": {},
     "output_type": "execute_result"
    }
   ],
   "source": [
    "# Monthly trend of the revenue\n",
    "query= ''' Select Sum(Quantity * UnitPrice) As Monthly_revenue, strftime(\"%m\", date(invoicedate))As Month, strftime(\"%Y\", date(invoicedate))As Year\n",
    "           From Retail\n",
    "           Group By Year, Month\n",
    "                     '''\n",
    "pd.read_sql_query(query, conn)"
   ]
  },
  {
   "cell_type": "code",
   "execution_count": 33,
   "id": "d886b7c9",
   "metadata": {
    "scrolled": false
   },
   "outputs": [
    {
     "data": {
      "text/html": [
       "<div>\n",
       "<style scoped>\n",
       "    .dataframe tbody tr th:only-of-type {\n",
       "        vertical-align: middle;\n",
       "    }\n",
       "\n",
       "    .dataframe tbody tr th {\n",
       "        vertical-align: top;\n",
       "    }\n",
       "\n",
       "    .dataframe thead th {\n",
       "        text-align: right;\n",
       "    }\n",
       "</style>\n",
       "<table border=\"1\" class=\"dataframe\">\n",
       "  <thead>\n",
       "    <tr style=\"text-align: right;\">\n",
       "      <th></th>\n",
       "      <th>Monthly_revenue</th>\n",
       "      <th>Month</th>\n",
       "      <th>Year</th>\n",
       "      <th>NextMonthRevenue</th>\n",
       "    </tr>\n",
       "  </thead>\n",
       "  <tbody>\n",
       "    <tr>\n",
       "      <th>0</th>\n",
       "      <td>823746.140</td>\n",
       "      <td>12</td>\n",
       "      <td>2010</td>\n",
       "      <td>NaN</td>\n",
       "    </tr>\n",
       "    <tr>\n",
       "      <th>1</th>\n",
       "      <td>614180.960</td>\n",
       "      <td>01</td>\n",
       "      <td>2011</td>\n",
       "      <td>823746.140</td>\n",
       "    </tr>\n",
       "    <tr>\n",
       "      <th>2</th>\n",
       "      <td>523631.890</td>\n",
       "      <td>02</td>\n",
       "      <td>2011</td>\n",
       "      <td>614180.960</td>\n",
       "    </tr>\n",
       "    <tr>\n",
       "      <th>3</th>\n",
       "      <td>717639.360</td>\n",
       "      <td>03</td>\n",
       "      <td>2011</td>\n",
       "      <td>523631.890</td>\n",
       "    </tr>\n",
       "    <tr>\n",
       "      <th>4</th>\n",
       "      <td>537808.621</td>\n",
       "      <td>04</td>\n",
       "      <td>2011</td>\n",
       "      <td>717639.360</td>\n",
       "    </tr>\n",
       "    <tr>\n",
       "      <th>5</th>\n",
       "      <td>770536.020</td>\n",
       "      <td>05</td>\n",
       "      <td>2011</td>\n",
       "      <td>537808.621</td>\n",
       "    </tr>\n",
       "    <tr>\n",
       "      <th>6</th>\n",
       "      <td>761739.900</td>\n",
       "      <td>06</td>\n",
       "      <td>2011</td>\n",
       "      <td>770536.020</td>\n",
       "    </tr>\n",
       "    <tr>\n",
       "      <th>7</th>\n",
       "      <td>719221.191</td>\n",
       "      <td>07</td>\n",
       "      <td>2011</td>\n",
       "      <td>761739.900</td>\n",
       "    </tr>\n",
       "    <tr>\n",
       "      <th>8</th>\n",
       "      <td>759138.380</td>\n",
       "      <td>08</td>\n",
       "      <td>2011</td>\n",
       "      <td>719221.191</td>\n",
       "    </tr>\n",
       "    <tr>\n",
       "      <th>9</th>\n",
       "      <td>1058590.172</td>\n",
       "      <td>09</td>\n",
       "      <td>2011</td>\n",
       "      <td>759138.380</td>\n",
       "    </tr>\n",
       "    <tr>\n",
       "      <th>10</th>\n",
       "      <td>1154979.300</td>\n",
       "      <td>10</td>\n",
       "      <td>2011</td>\n",
       "      <td>1058590.172</td>\n",
       "    </tr>\n",
       "    <tr>\n",
       "      <th>11</th>\n",
       "      <td>1509496.330</td>\n",
       "      <td>11</td>\n",
       "      <td>2011</td>\n",
       "      <td>1154979.300</td>\n",
       "    </tr>\n",
       "    <tr>\n",
       "      <th>12</th>\n",
       "      <td>470323.080</td>\n",
       "      <td>12</td>\n",
       "      <td>2011</td>\n",
       "      <td>1509496.330</td>\n",
       "    </tr>\n",
       "  </tbody>\n",
       "</table>\n",
       "</div>"
      ],
      "text/plain": [
       "    Monthly_revenue Month  Year  NextMonthRevenue\n",
       "0        823746.140    12  2010               NaN\n",
       "1        614180.960    01  2011        823746.140\n",
       "2        523631.890    02  2011        614180.960\n",
       "3        717639.360    03  2011        523631.890\n",
       "4        537808.621    04  2011        717639.360\n",
       "5        770536.020    05  2011        537808.621\n",
       "6        761739.900    06  2011        770536.020\n",
       "7        719221.191    07  2011        761739.900\n",
       "8        759138.380    08  2011        719221.191\n",
       "9       1058590.172    09  2011        759138.380\n",
       "10      1154979.300    10  2011       1058590.172\n",
       "11      1509496.330    11  2011       1154979.300\n",
       "12       470323.080    12  2011       1509496.330"
      ]
     },
     "execution_count": 33,
     "metadata": {},
     "output_type": "execute_result"
    }
   ],
   "source": [
    "# Using Lag() function to get the previous month's revenue\n",
    "query= '''With cte as\n",
    "            (Select Sum(Quantity * UnitPrice) As Monthly_revenue, strftime(\"%m\", date(invoicedate))As Month, strftime(\"%Y\", date(invoicedate))As Year\n",
    "            From Retail\n",
    "            Group By Year, Month)\n",
    "            \n",
    "            Select Monthly_revenue, Month, Year, Lag(Monthly_revenue) Over (Order By Year, Month) As NextMonthRevenue\n",
    "            From cte'''\n",
    "pd.read_sql_query(query, conn)"
   ]
  },
  {
   "cell_type": "code",
   "execution_count": 34,
   "id": "c9bffdba",
   "metadata": {},
   "outputs": [
    {
     "data": {
      "text/html": [
       "<div>\n",
       "<style scoped>\n",
       "    .dataframe tbody tr th:only-of-type {\n",
       "        vertical-align: middle;\n",
       "    }\n",
       "\n",
       "    .dataframe tbody tr th {\n",
       "        vertical-align: top;\n",
       "    }\n",
       "\n",
       "    .dataframe thead th {\n",
       "        text-align: right;\n",
       "    }\n",
       "</style>\n",
       "<table border=\"1\" class=\"dataframe\">\n",
       "  <thead>\n",
       "    <tr style=\"text-align: right;\">\n",
       "      <th></th>\n",
       "      <th>Monthly_revenue</th>\n",
       "      <th>Month</th>\n",
       "      <th>Year</th>\n",
       "      <th>NextMonthRevenue</th>\n",
       "      <th>Difference</th>\n",
       "    </tr>\n",
       "  </thead>\n",
       "  <tbody>\n",
       "    <tr>\n",
       "      <th>0</th>\n",
       "      <td>823746.140</td>\n",
       "      <td>12</td>\n",
       "      <td>2010</td>\n",
       "      <td>NaN</td>\n",
       "      <td>NaN</td>\n",
       "    </tr>\n",
       "    <tr>\n",
       "      <th>1</th>\n",
       "      <td>614180.960</td>\n",
       "      <td>01</td>\n",
       "      <td>2011</td>\n",
       "      <td>823746.140</td>\n",
       "      <td>-209565.180</td>\n",
       "    </tr>\n",
       "    <tr>\n",
       "      <th>2</th>\n",
       "      <td>523631.890</td>\n",
       "      <td>02</td>\n",
       "      <td>2011</td>\n",
       "      <td>614180.960</td>\n",
       "      <td>-90549.070</td>\n",
       "    </tr>\n",
       "    <tr>\n",
       "      <th>3</th>\n",
       "      <td>717639.360</td>\n",
       "      <td>03</td>\n",
       "      <td>2011</td>\n",
       "      <td>523631.890</td>\n",
       "      <td>194007.470</td>\n",
       "    </tr>\n",
       "    <tr>\n",
       "      <th>4</th>\n",
       "      <td>537808.621</td>\n",
       "      <td>04</td>\n",
       "      <td>2011</td>\n",
       "      <td>717639.360</td>\n",
       "      <td>-179830.739</td>\n",
       "    </tr>\n",
       "    <tr>\n",
       "      <th>5</th>\n",
       "      <td>770536.020</td>\n",
       "      <td>05</td>\n",
       "      <td>2011</td>\n",
       "      <td>537808.621</td>\n",
       "      <td>232727.399</td>\n",
       "    </tr>\n",
       "    <tr>\n",
       "      <th>6</th>\n",
       "      <td>761739.900</td>\n",
       "      <td>06</td>\n",
       "      <td>2011</td>\n",
       "      <td>770536.020</td>\n",
       "      <td>-8796.120</td>\n",
       "    </tr>\n",
       "    <tr>\n",
       "      <th>7</th>\n",
       "      <td>719221.191</td>\n",
       "      <td>07</td>\n",
       "      <td>2011</td>\n",
       "      <td>761739.900</td>\n",
       "      <td>-42518.709</td>\n",
       "    </tr>\n",
       "    <tr>\n",
       "      <th>8</th>\n",
       "      <td>759138.380</td>\n",
       "      <td>08</td>\n",
       "      <td>2011</td>\n",
       "      <td>719221.191</td>\n",
       "      <td>39917.189</td>\n",
       "    </tr>\n",
       "    <tr>\n",
       "      <th>9</th>\n",
       "      <td>1058590.172</td>\n",
       "      <td>09</td>\n",
       "      <td>2011</td>\n",
       "      <td>759138.380</td>\n",
       "      <td>299451.792</td>\n",
       "    </tr>\n",
       "    <tr>\n",
       "      <th>10</th>\n",
       "      <td>1154979.300</td>\n",
       "      <td>10</td>\n",
       "      <td>2011</td>\n",
       "      <td>1058590.172</td>\n",
       "      <td>96389.128</td>\n",
       "    </tr>\n",
       "    <tr>\n",
       "      <th>11</th>\n",
       "      <td>1509496.330</td>\n",
       "      <td>11</td>\n",
       "      <td>2011</td>\n",
       "      <td>1154979.300</td>\n",
       "      <td>354517.030</td>\n",
       "    </tr>\n",
       "    <tr>\n",
       "      <th>12</th>\n",
       "      <td>470323.080</td>\n",
       "      <td>12</td>\n",
       "      <td>2011</td>\n",
       "      <td>1509496.330</td>\n",
       "      <td>-1039173.250</td>\n",
       "    </tr>\n",
       "  </tbody>\n",
       "</table>\n",
       "</div>"
      ],
      "text/plain": [
       "    Monthly_revenue Month  Year  NextMonthRevenue   Difference\n",
       "0        823746.140    12  2010               NaN          NaN\n",
       "1        614180.960    01  2011        823746.140  -209565.180\n",
       "2        523631.890    02  2011        614180.960   -90549.070\n",
       "3        717639.360    03  2011        523631.890   194007.470\n",
       "4        537808.621    04  2011        717639.360  -179830.739\n",
       "5        770536.020    05  2011        537808.621   232727.399\n",
       "6        761739.900    06  2011        770536.020    -8796.120\n",
       "7        719221.191    07  2011        761739.900   -42518.709\n",
       "8        759138.380    08  2011        719221.191    39917.189\n",
       "9       1058590.172    09  2011        759138.380   299451.792\n",
       "10      1154979.300    10  2011       1058590.172    96389.128\n",
       "11      1509496.330    11  2011       1154979.300   354517.030\n",
       "12       470323.080    12  2011       1509496.330 -1039173.250"
      ]
     },
     "execution_count": 34,
     "metadata": {},
     "output_type": "execute_result"
    }
   ],
   "source": [
    "# Differnce in the monthly revenues generated\n",
    "query= '''With cte as\n",
    "            (Select Sum(Quantity * UnitPrice) As Monthly_revenue, strftime(\"%m\", date(invoicedate))As Month, strftime(\"%Y\", date(invoicedate))As Year\n",
    "            From Retail\n",
    "            Group By Year, Month)\n",
    "                          \n",
    "            Select Monthly_revenue,\n",
    "                   Month, \n",
    "                   Year, \n",
    "                   Lag(Monthly_revenue) Over (Order By Year, Month) As NextMonthRevenue,\n",
    "                   Monthly_revenue - Lag(Monthly_revenue) Over (Order By Year, Month) As Difference\n",
    "            From cte'''\n",
    "pd.read_sql_query(query, conn)"
   ]
  },
  {
   "cell_type": "markdown",
   "id": "e205f8ad",
   "metadata": {},
   "source": [
    "Here negative difference value indicate decrease and positive values indicate the increase in the revenue generated."
   ]
  },
  {
   "cell_type": "code",
   "execution_count": 35,
   "id": "c89a98bd",
   "metadata": {},
   "outputs": [
    {
     "data": {
      "text/html": [
       "<div>\n",
       "<style scoped>\n",
       "    .dataframe tbody tr th:only-of-type {\n",
       "        vertical-align: middle;\n",
       "    }\n",
       "\n",
       "    .dataframe tbody tr th {\n",
       "        vertical-align: top;\n",
       "    }\n",
       "\n",
       "    .dataframe thead th {\n",
       "        text-align: right;\n",
       "    }\n",
       "</style>\n",
       "<table border=\"1\" class=\"dataframe\">\n",
       "  <thead>\n",
       "    <tr style=\"text-align: right;\">\n",
       "      <th></th>\n",
       "      <th>Month</th>\n",
       "      <th>Year</th>\n",
       "      <th>Difference</th>\n",
       "    </tr>\n",
       "  </thead>\n",
       "  <tbody>\n",
       "    <tr>\n",
       "      <th>0</th>\n",
       "      <td>11</td>\n",
       "      <td>2011</td>\n",
       "      <td>354517.03</td>\n",
       "    </tr>\n",
       "    <tr>\n",
       "      <th>1</th>\n",
       "      <td>12</td>\n",
       "      <td>2011</td>\n",
       "      <td>-1039173.25</td>\n",
       "    </tr>\n",
       "  </tbody>\n",
       "</table>\n",
       "</div>"
      ],
      "text/plain": [
       "  Month  Year  Difference\n",
       "0    11  2011   354517.03\n",
       "1    12  2011 -1039173.25"
      ]
     },
     "execution_count": 35,
     "metadata": {},
     "output_type": "execute_result"
    }
   ],
   "source": [
    "# Months which faced the biggest increase/decrease\n",
    "query= '''With cte as\n",
    "            (Select Sum(Quantity * UnitPrice) As Monthly_revenue, strftime(\"%m\", date(invoicedate))As Month, strftime(\"%Y\", date(invoicedate))As Year\n",
    "            From Retail\n",
    "            Group By Year, Month),\n",
    "                cte2 as\n",
    "            (Select Monthly_revenue, Month, Year, \n",
    "                   Lag(Monthly_revenue) Over (Order By Year, Month) As NextMonthRevenue,\n",
    "                   Monthly_revenue - Lag(Monthly_revenue) Over (Order By Year, Month) As Difference\n",
    "            From cte)\n",
    "          Select Month, Year, Difference \n",
    "          from cte2 \n",
    "          where Difference = (select min(Difference) from cte2)\n",
    "          Union \n",
    "          Select Month, Year, Difference\n",
    "          from cte2\n",
    "          where Difference = (select max(Difference) from cte2)\n",
    "            '''\n",
    "pd.read_sql_query(query, conn)"
   ]
  },
  {
   "cell_type": "markdown",
   "id": "d46260aa",
   "metadata": {},
   "source": [
    "#### Results:\n",
    "###### Month having biggest increase in sales:\n",
    "November, 2011 \n",
    "###### Month having biggest decrease in sales:\n",
    "December, 2011"
   ]
  },
  {
   "cell_type": "markdown",
   "id": "d00df8cf",
   "metadata": {},
   "source": [
    "### 3. Which months generated the most revenue? Is there a seasonality in sales?"
   ]
  },
  {
   "cell_type": "code",
   "execution_count": 36,
   "id": "8e89b604",
   "metadata": {},
   "outputs": [
    {
     "data": {
      "text/html": [
       "<div>\n",
       "<style scoped>\n",
       "    .dataframe tbody tr th:only-of-type {\n",
       "        vertical-align: middle;\n",
       "    }\n",
       "\n",
       "    .dataframe tbody tr th {\n",
       "        vertical-align: top;\n",
       "    }\n",
       "\n",
       "    .dataframe thead th {\n",
       "        text-align: right;\n",
       "    }\n",
       "</style>\n",
       "<table border=\"1\" class=\"dataframe\">\n",
       "  <thead>\n",
       "    <tr style=\"text-align: right;\">\n",
       "      <th></th>\n",
       "      <th>Month</th>\n",
       "      <th>Year</th>\n",
       "      <th>Max(Monthly_revenue)</th>\n",
       "    </tr>\n",
       "  </thead>\n",
       "  <tbody>\n",
       "    <tr>\n",
       "      <th>0</th>\n",
       "      <td>11</td>\n",
       "      <td>2011</td>\n",
       "      <td>1509496.33</td>\n",
       "    </tr>\n",
       "  </tbody>\n",
       "</table>\n",
       "</div>"
      ],
      "text/plain": [
       "  Month  Year  Max(Monthly_revenue)\n",
       "0    11  2011            1509496.33"
      ]
     },
     "execution_count": 36,
     "metadata": {},
     "output_type": "execute_result"
    }
   ],
   "source": [
    "# Month having highest revenue generated\n",
    "query = '''\n",
    "           Select Month, Year, Max(Monthly_revenue)\n",
    "           From (Select Sum(Quantity * UnitPrice) As Monthly_revenue, strftime(\"%m\", date(invoicedate))As Month, strftime(\"%Y\", date(invoicedate))As Year\n",
    "                 From Retail\n",
    "                 Group By Year, Month) t'''\n",
    "pd.read_sql_query(query, conn)"
   ]
  },
  {
   "cell_type": "markdown",
   "id": "cc80178e",
   "metadata": {},
   "source": [
    "#### Seasonality in sales"
   ]
  },
  {
   "cell_type": "code",
   "execution_count": 37,
   "id": "2564ed89",
   "metadata": {},
   "outputs": [
    {
     "name": "stdout",
     "output_type": "stream",
     "text": [
      "    Monthly_revenue    Month\n",
      "0        823746.140  12/2010\n",
      "1        614180.960  01/2011\n",
      "2        523631.890  02/2011\n",
      "3        717639.360  03/2011\n",
      "4        537808.621  04/2011\n",
      "5        770536.020  05/2011\n",
      "6        761739.900  06/2011\n",
      "7        719221.191  07/2011\n",
      "8        759138.380  08/2011\n",
      "9       1058590.172  09/2011\n",
      "10      1154979.300  10/2011\n",
      "11      1509496.330  11/2011\n",
      "12       470323.080  12/2011\n"
     ]
    },
    {
     "data": {
      "text/plain": [
       "Text(0, 0.5, 'Monthly sale')"
      ]
     },
     "execution_count": 37,
     "metadata": {},
     "output_type": "execute_result"
    },
    {
     "data": {
      "image/png": "[encoded data removed]",
      "text/plain": [
       "<Figure size 1080x360 with 1 Axes>"
      ]
     },
     "metadata": {
      "needs_background": "light"
     },
     "output_type": "display_data"
    }
   ],
   "source": [
    "query= ''' Select Sum(Quantity * UnitPrice) As Monthly_revenue, strftime(\"%m\", date(invoicedate)) || '/' || strftime(\"%Y\", date(invoicedate)) as Month\n",
    "           From Retail\n",
    "           Group By strftime(\"%Y\", date(invoicedate)), strftime(\"%m\", date(invoicedate))\n",
    "                     '''\n",
    "monthly_sales=pd.read_sql_query(query, conn)\n",
    "print(monthly_sales)\n",
    "\n",
    "#Plotting Monthly Sales\n",
    "import matplotlib.pyplot as plt\n",
    "%matplotlib inline\n",
    "x=monthly_sales['Month']\n",
    "y=monthly_sales['Monthly_revenue']\n",
    "\n",
    "f = plt.figure()\n",
    "f.set_figwidth(15)\n",
    "f.set_figheight(5)\n",
    "  \n",
    "plt.plot(x, y)\n",
    "plt.xlabel(\"Month\")\n",
    "plt.ylabel(\"Monthly sale\")"
   ]
  },
  {
   "cell_type": "markdown",
   "id": "f7b3256d",
   "metadata": {},
   "source": [
    "#### Results:\n",
    "- November, 2011 generated maximum monthly revenue of £1509496.33\n",
    "- The sales are more in the months Sept- Nov and falls down in the months Feb-Aug. And shows the biggest decrease in the month of December"
   ]
  },
  {
   "cell_type": "markdown",
   "id": "400372f9",
   "metadata": {},
   "source": [
    "### 4. Who are the top customers and how much do they contribute to the total revenue? Is the business dependent on these customers or is the customer base diversified?"
   ]
  },
  {
   "cell_type": "code",
   "execution_count": 38,
   "id": "863f4c0f",
   "metadata": {},
   "outputs": [
    {
     "data": {
      "text/html": [
       "<div>\n",
       "<style scoped>\n",
       "    .dataframe tbody tr th:only-of-type {\n",
       "        vertical-align: middle;\n",
       "    }\n",
       "\n",
       "    .dataframe tbody tr th {\n",
       "        vertical-align: top;\n",
       "    }\n",
       "\n",
       "    .dataframe thead th {\n",
       "        text-align: right;\n",
       "    }\n",
       "</style>\n",
       "<table border=\"1\" class=\"dataframe\">\n",
       "  <thead>\n",
       "    <tr style=\"text-align: right;\">\n",
       "      <th></th>\n",
       "      <th>CustomerID</th>\n",
       "      <th>Amount_spent</th>\n",
       "      <th>Contribution_in_Total_revenue</th>\n",
       "    </tr>\n",
       "  </thead>\n",
       "  <tbody>\n",
       "    <tr>\n",
       "      <th>0</th>\n",
       "      <td>Guest</td>\n",
       "      <td>1.755277e+06</td>\n",
       "      <td>16.843598</td>\n",
       "    </tr>\n",
       "    <tr>\n",
       "      <th>1</th>\n",
       "      <td>14646.0</td>\n",
       "      <td>2.802060e+05</td>\n",
       "      <td>2.688851</td>\n",
       "    </tr>\n",
       "    <tr>\n",
       "      <th>2</th>\n",
       "      <td>18102.0</td>\n",
       "      <td>2.596573e+05</td>\n",
       "      <td>2.491666</td>\n",
       "    </tr>\n",
       "    <tr>\n",
       "      <th>3</th>\n",
       "      <td>17450.0</td>\n",
       "      <td>1.945508e+05</td>\n",
       "      <td>1.866905</td>\n",
       "    </tr>\n",
       "    <tr>\n",
       "      <th>4</th>\n",
       "      <td>14911.0</td>\n",
       "      <td>1.438251e+05</td>\n",
       "      <td>1.380142</td>\n",
       "    </tr>\n",
       "    <tr>\n",
       "      <th>5</th>\n",
       "      <td>12415.0</td>\n",
       "      <td>1.249145e+05</td>\n",
       "      <td>1.198677</td>\n",
       "    </tr>\n",
       "    <tr>\n",
       "      <th>6</th>\n",
       "      <td>14156.0</td>\n",
       "      <td>1.173796e+05</td>\n",
       "      <td>1.126372</td>\n",
       "    </tr>\n",
       "    <tr>\n",
       "      <th>7</th>\n",
       "      <td>17511.0</td>\n",
       "      <td>9.106238e+04</td>\n",
       "      <td>0.873833</td>\n",
       "    </tr>\n",
       "    <tr>\n",
       "      <th>8</th>\n",
       "      <td>16029.0</td>\n",
       "      <td>8.102484e+04</td>\n",
       "      <td>0.777513</td>\n",
       "    </tr>\n",
       "    <tr>\n",
       "      <th>9</th>\n",
       "      <td>16684.0</td>\n",
       "      <td>6.665356e+04</td>\n",
       "      <td>0.639606</td>\n",
       "    </tr>\n",
       "  </tbody>\n",
       "</table>\n",
       "</div>"
      ],
      "text/plain": [
       "  CustomerID  Amount_spent  Contribution_in_Total_revenue\n",
       "0      Guest  1.755277e+06                      16.843598\n",
       "1    14646.0  2.802060e+05                       2.688851\n",
       "2    18102.0  2.596573e+05                       2.491666\n",
       "3    17450.0  1.945508e+05                       1.866905\n",
       "4    14911.0  1.438251e+05                       1.380142\n",
       "5    12415.0  1.249145e+05                       1.198677\n",
       "6    14156.0  1.173796e+05                       1.126372\n",
       "7    17511.0  9.106238e+04                       0.873833\n",
       "8    16029.0  8.102484e+04                       0.777513\n",
       "9    16684.0  6.665356e+04                       0.639606"
      ]
     },
     "execution_count": 38,
     "metadata": {},
     "output_type": "execute_result"
    }
   ],
   "source": [
    "# Top 10 customers, amount spent by them and their contribution to the total revenue\n",
    "query = '''select CustomerID, sum(Quantity*UnitPrice) As Amount_spent ,  (sum(Quantity*UnitPrice) )*100/Total_revenue as Contribution_in_Total_revenue\n",
    "           From (select *, sum(Quantity*UnitPrice) Over () as Total_revenue\n",
    "                From Retail)\n",
    "           Group by CustomerID \n",
    "           Order by Amount_spent Desc \n",
    "           Limit 10'''\n",
    "pd.read_sql_query(query, conn)\n",
    "\n"
   ]
  },
  {
   "cell_type": "code",
   "execution_count": 39,
   "id": "88149910",
   "metadata": {},
   "outputs": [
    {
     "data": {
      "text/plain": [
       "29.887164208475646"
      ]
     },
     "execution_count": 39,
     "metadata": {},
     "output_type": "execute_result"
    }
   ],
   "source": [
    "top_customers=pd.read_sql_query(query, conn)\n",
    "top_customers['Contribution_in_Total_revenue'].sum()"
   ]
  },
  {
   "cell_type": "markdown",
   "id": "ab00c125",
   "metadata": {},
   "source": [
    "#### Results:\n",
    "The top 10 customers contribute to only 29.8872% of the total revenue generated."
   ]
  },
  {
   "cell_type": "code",
   "execution_count": 40,
   "id": "dfed6c16",
   "metadata": {},
   "outputs": [
    {
     "data": {
      "text/plain": [
       "Text(0.5, 1.0, 'Distribution of revenue contribution by customers')"
      ]
     },
     "execution_count": 40,
     "metadata": {},
     "output_type": "execute_result"
    },
    {
     "data": {
      "image/png": "[encoded data removed]",
      "text/plain": [
       "<Figure size 432x288 with 1 Axes>"
      ]
     },
     "metadata": {
      "needs_background": "light"
     },
     "output_type": "display_data"
    }
   ],
   "source": [
    "query = '''select CustomerID, sum(Quantity*UnitPrice) As Amount_spent ,  (sum(Quantity*UnitPrice) )*100/Total_revenue as Contribution_in_Total_revenue\n",
    "           From (select *, sum(Quantity*UnitPrice) Over () as Total_revenue\n",
    "                From Retail)\n",
    "           Group by CustomerID \n",
    "           Order by Amount_spent Desc \n",
    "          '''\n",
    "contibution_ofeach_customer=pd.read_sql_query(query, conn)\n",
    "\n",
    "plt.hist(contibution_ofeach_customer['Contribution_in_Total_revenue'], bins=5)\n",
    "plt.xlabel('Percentage of revenue contribution')\n",
    "plt.ylabel('Number of customers')\n",
    "plt.title('Distribution of revenue contribution by customers')"
   ]
  },
  {
   "cell_type": "markdown",
   "id": "647772db",
   "metadata": {},
   "source": [
    "Maximum number of customers have around 0-3 % contribution in the total revenue so the customer base is well diversified"
   ]
  },
  {
   "cell_type": "markdown",
   "id": "5c29b11b",
   "metadata": {},
   "source": [
    "### 5. What is the percentage of customers who are repeating their orders? Are they ordering the same products or different?"
   ]
  },
  {
   "cell_type": "code",
   "execution_count": 41,
   "id": "a5f484a8",
   "metadata": {},
   "outputs": [
    {
     "data": {
      "text/html": [
       "<div>\n",
       "<style scoped>\n",
       "    .dataframe tbody tr th:only-of-type {\n",
       "        vertical-align: middle;\n",
       "    }\n",
       "\n",
       "    .dataframe tbody tr th {\n",
       "        vertical-align: top;\n",
       "    }\n",
       "\n",
       "    .dataframe thead th {\n",
       "        text-align: right;\n",
       "    }\n",
       "</style>\n",
       "<table border=\"1\" class=\"dataframe\">\n",
       "  <thead>\n",
       "    <tr style=\"text-align: right;\">\n",
       "      <th></th>\n",
       "      <th>CustomerID</th>\n",
       "      <th>InvoiceNo</th>\n",
       "      <th>InvoiceDate</th>\n",
       "    </tr>\n",
       "  </thead>\n",
       "  <tbody>\n",
       "    <tr>\n",
       "      <th>0</th>\n",
       "      <td>17850.0</td>\n",
       "      <td>536365</td>\n",
       "      <td>2010-12-01 08:26:00</td>\n",
       "    </tr>\n",
       "    <tr>\n",
       "      <th>1</th>\n",
       "      <td>17850.0</td>\n",
       "      <td>536366</td>\n",
       "      <td>2010-12-01 08:28:00</td>\n",
       "    </tr>\n",
       "    <tr>\n",
       "      <th>2</th>\n",
       "      <td>13047.0</td>\n",
       "      <td>536367</td>\n",
       "      <td>2010-12-01 08:34:00</td>\n",
       "    </tr>\n",
       "    <tr>\n",
       "      <th>3</th>\n",
       "      <td>13047.0</td>\n",
       "      <td>536368</td>\n",
       "      <td>2010-12-01 08:34:00</td>\n",
       "    </tr>\n",
       "    <tr>\n",
       "      <th>4</th>\n",
       "      <td>13047.0</td>\n",
       "      <td>536369</td>\n",
       "      <td>2010-12-01 08:35:00</td>\n",
       "    </tr>\n",
       "    <tr>\n",
       "      <th>...</th>\n",
       "      <td>...</td>\n",
       "      <td>...</td>\n",
       "      <td>...</td>\n",
       "    </tr>\n",
       "    <tr>\n",
       "      <th>24435</th>\n",
       "      <td>16446.0</td>\n",
       "      <td>C581484</td>\n",
       "      <td>2011-12-09 09:27:00</td>\n",
       "    </tr>\n",
       "    <tr>\n",
       "      <th>24436</th>\n",
       "      <td>14397.0</td>\n",
       "      <td>C581490</td>\n",
       "      <td>2011-12-09 09:57:00</td>\n",
       "    </tr>\n",
       "    <tr>\n",
       "      <th>24437</th>\n",
       "      <td>15498.0</td>\n",
       "      <td>C581499</td>\n",
       "      <td>2011-12-09 10:28:00</td>\n",
       "    </tr>\n",
       "    <tr>\n",
       "      <th>24438</th>\n",
       "      <td>15311.0</td>\n",
       "      <td>C581568</td>\n",
       "      <td>2011-12-09 11:57:00</td>\n",
       "    </tr>\n",
       "    <tr>\n",
       "      <th>24439</th>\n",
       "      <td>17315.0</td>\n",
       "      <td>C581569</td>\n",
       "      <td>2011-12-09 11:58:00</td>\n",
       "    </tr>\n",
       "  </tbody>\n",
       "</table>\n",
       "<p>24440 rows × 3 columns</p>\n",
       "</div>"
      ],
      "text/plain": [
       "      CustomerID InvoiceNo          InvoiceDate\n",
       "0        17850.0    536365  2010-12-01 08:26:00\n",
       "1        17850.0    536366  2010-12-01 08:28:00\n",
       "2        13047.0    536367  2010-12-01 08:34:00\n",
       "3        13047.0    536368  2010-12-01 08:34:00\n",
       "4        13047.0    536369  2010-12-01 08:35:00\n",
       "...          ...       ...                  ...\n",
       "24435    16446.0   C581484  2011-12-09 09:27:00\n",
       "24436    14397.0   C581490  2011-12-09 09:57:00\n",
       "24437    15498.0   C581499  2011-12-09 10:28:00\n",
       "24438    15311.0   C581568  2011-12-09 11:57:00\n",
       "24439    17315.0   C581569  2011-12-09 11:58:00\n",
       "\n",
       "[24440 rows x 3 columns]"
      ]
     },
     "execution_count": 41,
     "metadata": {},
     "output_type": "execute_result"
    }
   ],
   "source": [
    "# Orders placed by the customer\n",
    "query = '''select CustomerID, InvoiceNo, Invoicedate\n",
    "           From Retail\n",
    "           group by InvoiceNo, CustomerID \n",
    "           '''\n",
    "pd.read_sql_query(query, conn)"
   ]
  },
  {
   "cell_type": "markdown",
   "id": "905297e1",
   "metadata": {},
   "source": [
    "If a customer orders more than once, a new InvoiceNo is assigned to him. So we can count the number of invoices for each customers and check if they have repeated orders or not."
   ]
  },
  {
   "cell_type": "code",
   "execution_count": 42,
   "id": "c2b6f454",
   "metadata": {},
   "outputs": [
    {
     "data": {
      "text/html": [
       "<div>\n",
       "<style scoped>\n",
       "    .dataframe tbody tr th:only-of-type {\n",
       "        vertical-align: middle;\n",
       "    }\n",
       "\n",
       "    .dataframe tbody tr th {\n",
       "        vertical-align: top;\n",
       "    }\n",
       "\n",
       "    .dataframe thead th {\n",
       "        text-align: right;\n",
       "    }\n",
       "</style>\n",
       "<table border=\"1\" class=\"dataframe\">\n",
       "  <thead>\n",
       "    <tr style=\"text-align: right;\">\n",
       "      <th></th>\n",
       "      <th>CustomerID</th>\n",
       "      <th>Number_of_orders</th>\n",
       "    </tr>\n",
       "  </thead>\n",
       "  <tbody>\n",
       "    <tr>\n",
       "      <th>0</th>\n",
       "      <td>12346.0</td>\n",
       "      <td>1</td>\n",
       "    </tr>\n",
       "    <tr>\n",
       "      <th>1</th>\n",
       "      <td>12347.0</td>\n",
       "      <td>7</td>\n",
       "    </tr>\n",
       "    <tr>\n",
       "      <th>2</th>\n",
       "      <td>12348.0</td>\n",
       "      <td>4</td>\n",
       "    </tr>\n",
       "    <tr>\n",
       "      <th>3</th>\n",
       "      <td>12349.0</td>\n",
       "      <td>1</td>\n",
       "    </tr>\n",
       "    <tr>\n",
       "      <th>4</th>\n",
       "      <td>12350.0</td>\n",
       "      <td>1</td>\n",
       "    </tr>\n",
       "    <tr>\n",
       "      <th>...</th>\n",
       "      <td>...</td>\n",
       "      <td>...</td>\n",
       "    </tr>\n",
       "    <tr>\n",
       "      <th>4367</th>\n",
       "      <td>18281.0</td>\n",
       "      <td>1</td>\n",
       "    </tr>\n",
       "    <tr>\n",
       "      <th>4368</th>\n",
       "      <td>18282.0</td>\n",
       "      <td>3</td>\n",
       "    </tr>\n",
       "    <tr>\n",
       "      <th>4369</th>\n",
       "      <td>18283.0</td>\n",
       "      <td>16</td>\n",
       "    </tr>\n",
       "    <tr>\n",
       "      <th>4370</th>\n",
       "      <td>18287.0</td>\n",
       "      <td>3</td>\n",
       "    </tr>\n",
       "    <tr>\n",
       "      <th>4371</th>\n",
       "      <td>Guest</td>\n",
       "      <td>2254</td>\n",
       "    </tr>\n",
       "  </tbody>\n",
       "</table>\n",
       "<p>4372 rows × 2 columns</p>\n",
       "</div>"
      ],
      "text/plain": [
       "     CustomerID  Number_of_orders\n",
       "0       12346.0                 1\n",
       "1       12347.0                 7\n",
       "2       12348.0                 4\n",
       "3       12349.0                 1\n",
       "4       12350.0                 1\n",
       "...         ...               ...\n",
       "4367    18281.0                 1\n",
       "4368    18282.0                 3\n",
       "4369    18283.0                16\n",
       "4370    18287.0                 3\n",
       "4371      Guest              2254\n",
       "\n",
       "[4372 rows x 2 columns]"
      ]
     },
     "execution_count": 42,
     "metadata": {},
     "output_type": "execute_result"
    }
   ],
   "source": [
    "# Number of orders placed by each customer\n",
    "query = '''select CustomerID, count(InvoiceNo) as Number_of_orders\n",
    "           From (select CustomerID, InvoiceNo, Invoicedate\n",
    "                 From Retail\n",
    "                 Group by CustomerID,InvoiceNo)\n",
    "           Group by CustomerID\n",
    "           '''\n",
    "pd.read_sql_query(query, conn)"
   ]
  },
  {
   "cell_type": "code",
   "execution_count": 43,
   "id": "497127c0",
   "metadata": {},
   "outputs": [
    {
     "data": {
      "text/html": [
       "<div>\n",
       "<style scoped>\n",
       "    .dataframe tbody tr th:only-of-type {\n",
       "        vertical-align: middle;\n",
       "    }\n",
       "\n",
       "    .dataframe tbody tr th {\n",
       "        vertical-align: top;\n",
       "    }\n",
       "\n",
       "    .dataframe thead th {\n",
       "        text-align: right;\n",
       "    }\n",
       "</style>\n",
       "<table border=\"1\" class=\"dataframe\">\n",
       "  <thead>\n",
       "    <tr style=\"text-align: right;\">\n",
       "      <th></th>\n",
       "      <th>NumberofRepeatingcustomers</th>\n",
       "      <th>Percentage</th>\n",
       "    </tr>\n",
       "  </thead>\n",
       "  <tbody>\n",
       "    <tr>\n",
       "      <th>0</th>\n",
       "      <td>3059</td>\n",
       "      <td>69</td>\n",
       "    </tr>\n",
       "  </tbody>\n",
       "</table>\n",
       "</div>"
      ],
      "text/plain": [
       "   NumberofRepeatingcustomers  Percentage\n",
       "0                        3059          69"
      ]
     },
     "execution_count": 43,
     "metadata": {},
     "output_type": "execute_result"
    }
   ],
   "source": [
    "# Percentage of Customers who are repeating their orders\n",
    "query = '''with cte as \n",
    "          (select CustomerID, count(InvoiceNo) as Number_of_orders, count(*) Over () as Total_customers\n",
    "           From (select CustomerID, InvoiceNo, Invoicedate\n",
    "                 From Retail\n",
    "                 Group by CustomerID,InvoiceNo)\n",
    "           Group by CustomerID)\n",
    "           \n",
    "           select count(CustomerID) as NumberofRepeatingcustomers, count(CustomerID)*100/Total_customers as Percentage\n",
    "           From cte\n",
    "           Where Number_of_orders>1\n",
    "           '''\n",
    "pd.read_sql_query(query, conn)"
   ]
  },
  {
   "cell_type": "markdown",
   "id": "9b4690d5",
   "metadata": {},
   "source": [
    "There are 3059 Customers (69% of the total) who are repeating their orders."
   ]
  }
 ],
 "metadata": {
  "kernelspec": {
   "display_name": "Python 3 (ipykernel)",
   "language": "python",
   "name": "python3"
  },
  "language_info": {
   "codemirror_mode": {
    "name": "ipython",
    "version": 3
   },
   "file_extension": ".py",
   "mimetype": "text/x-python",
   "name": "python",
   "nbconvert_exporter": "python",
   "pygments_lexer": "ipython3",
   "version": "3.9.12"
  }
 },
 "nbformat": 4,
 "nbformat_minor": 5
}
